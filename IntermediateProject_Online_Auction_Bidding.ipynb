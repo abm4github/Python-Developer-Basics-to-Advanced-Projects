{
  "nbformat": 4,
  "nbformat_minor": 0,
  "metadata": {
    "colab": {
      "name": "IntermediateProject_Online_Auction_Bidding.ipynb",
      "provenance": [],
      "collapsed_sections": [],
      "authorship_tag": "ABX9TyOgpEYE3ji16T5l48+okKj2",
      "include_colab_link": true
    },
    "kernelspec": {
      "name": "python3",
      "display_name": "Python 3"
    },
    "language_info": {
      "name": "python"
    }
  },
  "cells": [
    {
      "cell_type": "markdown",
      "metadata": {
        "id": "view-in-github",
        "colab_type": "text"
      },
      "source": [
        "<a href=\"https://colab.research.google.com/github/abm4github/Python-Developer-Basics-to-Advanced-Projects/blob/main/IntermediateProject_Online_Auction_Bidding.ipynb\" target=\"_parent\"><img src=\"https://colab.research.google.com/assets/colab-badge.svg\" alt=\"Open In Colab\"/></a>"
      ]
    },
    {
      "cell_type": "markdown",
      "source": [
        "##Auction - Bidding"
      ],
      "metadata": {
        "id": "u-h7CuAo80Tm"
      }
    },
    {
      "cell_type": "markdown",
      "source": [
        "In an online auction, the bidders were not let to know the bidding amount of each other and after all bidders enter their bidding amount our program fetches the highest bidder and congratulates him.\n",
        "\n",
        "* In case, if there is a tie between bidding amounts of two or more bidders, it displays all their names and congratulates the first bidder.\n"
      ],
      "metadata": {
        "id": "5XaphHJC85WR"
      }
    },
    {
      "cell_type": "code",
      "source": [
        "from IPython.display import clear_output"
      ],
      "metadata": {
        "id": "yp9J_I5Sh_xH"
      },
      "execution_count": 8,
      "outputs": []
    },
    {
      "cell_type": "code",
      "execution_count": 76,
      "metadata": {
        "colab": {
          "base_uri": "https://localhost:8080/"
        },
        "id": "KOlR8Jgafe4i",
        "outputId": "327dbb24-202a-46df-b38c-11da522d6fa1"
      },
      "outputs": [
        {
          "output_type": "stream",
          "name": "stdout",
          "text": [
            "The highest bidders are ['Robert', 'Rahul'] and the bidding amount is 7500, but the first one to bid is Robert, congratulations Robert\n"
          ]
        }
      ],
      "source": [
        "my_dict = {}\n",
        "high_bid = 0\n",
        "name = []\n",
        "more_bidders = input(\"Are there any interested bidders? ('Type your response in 'yes' or 'no'): \").lower()\n",
        "while more_bidders == \"yes\":\n",
        "  name = input(\"what is your name: \")\n",
        "  bid = int(input('what is your bid: '))\n",
        "  my_dict[name] = bid\n",
        "  more_bidders = input(\"Are there any more bidders? ('Type your response in 'yes' or 'no'): \").lower()\n",
        "  clear_output()\n",
        "\n",
        "\n",
        "for i in my_dict:\n",
        "  if my_dict[i] > high_bid:\n",
        "    name = [i]\n",
        "    high_bid = my_dict[i]\n",
        "    for j in my_dict:\n",
        "      if i != j:\n",
        "        if my_dict[j] == high_bid:\n",
        "          name.append(j)\n",
        "\n",
        "if name == []:\n",
        "  print(\"There is no interested bidder.\")\n",
        "\n",
        "if len(name)== 1:\n",
        "  print(f\"The highest bidder is {name} and the bidding amount is {high_bid}, congratulations {name}. \")\n",
        "\n",
        "if len(name) > 1:\n",
        "  print(f\"The highest bidders are {name} and the bidding amount is {high_bid}, but the first one to bid is {name[0]}, congratulations {name[0].}\")\n"
      ]
    }
  ]
}