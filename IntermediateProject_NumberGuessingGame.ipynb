{
  "nbformat": 4,
  "nbformat_minor": 0,
  "metadata": {
    "colab": {
      "name": "IntermediateProject_NumberGuessingGame.ipynb",
      "provenance": [],
      "collapsed_sections": [],
      "authorship_tag": "ABX9TyPY5ilmp8a40verIHkKvXAP",
      "include_colab_link": true
    },
    "kernelspec": {
      "name": "python3",
      "display_name": "Python 3"
    },
    "language_info": {
      "name": "python"
    }
  },
  "cells": [
    {
      "cell_type": "markdown",
      "metadata": {
        "id": "view-in-github",
        "colab_type": "text"
      },
      "source": [
        "<a href=\"https://colab.research.google.com/github/abm4github/Python-Developer-Basics-to-Advanced-Projects/blob/main/IntermediateProject_NumberGuessingGame.ipynb\" target=\"_parent\"><img src=\"https://colab.research.google.com/assets/colab-badge.svg\" alt=\"Open In Colab\"/></a>"
      ]
    },
    {
      "cell_type": "markdown",
      "source": [
        "##Number Guessing Game\n",
        "  It is virtual version of an interesting game that you play generally with your friends to pass your time and to chill, but today your computer buddy wants to challenge you in this game. Are you ready?"
      ],
      "metadata": {
        "id": "V6CHwNFoDf7a"
      }
    },
    {
      "cell_type": "code",
      "execution_count": 42,
      "metadata": {
        "colab": {
          "base_uri": "https://localhost:8080/"
        },
        "id": "5gvBoCHjTXHL",
        "outputId": "9b4cd1ca-0e3d-4e0a-8fde-e34e76f4e0b6"
      },
      "outputs": [
        {
          "output_type": "stream",
          "name": "stdout",
          "text": [
            "           Welcome to the Number Guessing Game!\n",
            "Th number of my choice is in between 1 and 100. I bet, if you can guess it right.\n",
            "\n",
            "Type the difficulty level 'easy: 10 chances' or 'hard':5 chances: easy\n",
            "\n",
            "Alright, you have 10 chances in easy mode.\n",
            "12\n",
            "enter your guess 1: 13\n",
            "You are very closer to the number of my choice\n",
            "enter your guess 2: 13\n",
            "You are very closer to the number of my choice\n",
            "enter your guess 3: 18\n",
            "Your guess is far above the number of my choice\n",
            "enter your guess 4: 0\n",
            "Your guess is far below the number of my choice\n",
            "enter your guess 5: 10\n",
            "enter your guess 6: 10\n",
            "You are very closer to the number of my choice\n",
            "enter your guess 7: 10\n",
            "You are very closer to the number of my choice\n",
            "enter your guess 8: 10\n",
            "You are very closer to the number of my choice\n",
            "enter your guess 9: 10\n",
            "You are very closer to the number of my choice\n",
            "enter your guess 10: 11\n",
            "You are very closer to the number of my choice\n",
            "\n",
            "You have exhausted all your chances, better luck next time\n"
          ]
        }
      ],
      "source": [
        "import random\n",
        "print('''           Welcome to the Number Guessing Game!\n",
        "Th number of my choice is in between 1 and 100. I bet, if you can guess it right.\n",
        "''' )\n",
        "\n",
        "def difficulty_level():\n",
        "  difficulty = input(\"Type the difficulty level 'easy: 10 chances' or 'hard':5 chances: \" ).lower()\n",
        "  if difficulty == 'hard':\n",
        "    chances = 5\n",
        "  elif difficulty == 'easy':\n",
        "    chances = 10\n",
        "  else:\n",
        "    print('''\\n     oh! It's a wrong selection, seems to be a typo.''')\n",
        "    chances = difficulty_level()  # Function equating to chances is compulsory.\n",
        "  return (chances, difficulty)\n",
        "\n",
        "chances,difficulty = difficulty_level()\n",
        "print(f\"\\nAlright, you have {chances} chances in {difficulty} mode.\")\n",
        "\n",
        "my_num = random.randint(1,101)\n",
        "print(my_num)\n",
        "i = 1\n",
        "your_num = -1\n",
        "while not(my_num==your_num) and not(i > chances):\n",
        "  your_num = int(input(f\"enter your guess {i}: \"))\n",
        "  i +=1\n",
        "  if your_num == my_num:\n",
        "    print(f\"congratulations, you got it right on your chance {i-1}.\")\n",
        "  elif ((my_num - your_num) > 5):\n",
        "    print(\"Your guess is far below the number of my choice\")\n",
        "  elif ((your_num - my_num) > 5):\n",
        "    print(\"Your guess is far above the number of my choice\")\n",
        "  else:\n",
        "    print(\"You are very closer to the number of my choice\") \n",
        "if not(your_num == my_num):\n",
        "  print('\\nYou have exhausted all your chances, better luck next time') "
      ]
    }
  ]
}