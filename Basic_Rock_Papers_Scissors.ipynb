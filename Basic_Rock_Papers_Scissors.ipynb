{
  "nbformat": 4,
  "nbformat_minor": 0,
  "metadata": {
    "colab": {
      "name": "Basic_Rock_Papers_Scissors.ipynb",
      "provenance": [],
      "authorship_tag": "ABX9TyPwueo9cCwVyMHBPLw22ulz",
      "include_colab_link": true
    },
    "kernelspec": {
      "name": "python3",
      "display_name": "Python 3"
    },
    "language_info": {
      "name": "python"
    }
  },
  "cells": [
    {
      "cell_type": "markdown",
      "metadata": {
        "id": "view-in-github",
        "colab_type": "text"
      },
      "source": [
        "<a href=\"https://colab.research.google.com/github/abm4github/Python-Developer-Basics-to-Advanced-Projects/blob/main/Basic_Rock_Papers_Scissors.ipynb\" target=\"_parent\"><img src=\"https://colab.research.google.com/assets/colab-badge.svg\" alt=\"Open In Colab\"/></a>"
      ]
    },
    {
      "cell_type": "code",
      "metadata": {
        "colab": {
          "base_uri": "https://localhost:8080/"
        },
        "id": "QTiGFjdzEzt1",
        "outputId": "5a44b231-cce1-47ce-bd1e-9984f727ac47"
      },
      "source": [
        "import random\n",
        "\n",
        "user_choice = input(\"Hey, Let's Play Rock Paper Scissors\\n\\\n",
        "'0' for Rock,\\n'1' for Paper\\n'2' for Scissors\\n\\\n",
        "Enter the right integer value: \")\n",
        "\n",
        "if user_choice == '0' or user_choice == '1' or user_choice == '2':\n",
        "  user_choice = int(user_choice)\n",
        "  if user_choice == 0:\n",
        "    print('''Your Choice:\n",
        "        _______\n",
        "    ---'   ____)\n",
        "         (_____)\n",
        "         (_____)\n",
        "          (____)\n",
        "    ---.__(___) ''')\n",
        "    \n",
        "  elif user_choice == 1:\n",
        "    print('''Your Choice:\n",
        "         _______\n",
        "    ---'    ____)____\n",
        "               ______)\n",
        "              _______)\n",
        "             _______)\n",
        "    ---.__________) ''')\n",
        "    \n",
        "  elif user_choice == 2:\n",
        "    print('''Your Choice:\n",
        "        _______\n",
        "    ---'   ____)____\n",
        "              ______)\n",
        "          __________)\n",
        "          (____)\n",
        "    ---.__(___) ''')\n",
        "\n",
        "  computer_choice = random.randint(0, 2)\n",
        "  if computer_choice == 0:\n",
        "    print('''Computer Choice:\n",
        "        _______\n",
        "    ---'   ____)\n",
        "         (_____)\n",
        "         (_____)\n",
        "          (____)\n",
        "    ---.__(___) ''')\n",
        "  elif computer_choice == 1:\n",
        "    print('''Computer Choice:\n",
        "    \n",
        "         _______\n",
        "    ---'    ____)____\n",
        "               ______)\n",
        "              _______)\n",
        "             _______)\n",
        "    ---.__________) ''')\n",
        "  elif computer_choice == 2:\n",
        "    print('''Computer Choice:\n",
        "        _______\n",
        "    ---'   ____)____\n",
        "              ______)\n",
        "          __________)\n",
        "          (____)\n",
        "    ---.__(___) ''')\n",
        "\n",
        "  if user_choice == 0 and computer_choice == 2:\n",
        "    print(\"You Win\")\n",
        "  elif user_choice > computer_choice:\n",
        "    print(\"You Win\")\n",
        "  elif user_choice == computer_choice:\n",
        "    print(\"Its a Draw\")\n",
        "  else:\n",
        "    print(\"You Loose, Better Luck Next Time\")\n",
        "\n",
        "else:\n",
        "  print(\"Enter the right integer value: '0' for Rock, '1' for Paper and '2' for Scissors\")\n"
      ],
      "execution_count": 91,
      "outputs": [
        {
          "output_type": "stream",
          "name": "stdout",
          "text": [
            "Hey, Let's Play Rock Paper Scissors\n",
            "'0' for Rock,\n",
            "'1' for Paper\n",
            "'2' for Scissors\n",
            "Enter the right integer value: 1\n",
            "Your Choice:\n",
            "         _______\n",
            "    ---'    ____)____\n",
            "               ______)\n",
            "              _______)\n",
            "             _______)\n",
            "    ---.__________) \n",
            "Computer Choice:\n",
            "        _______\n",
            "    ---'   ____)\n",
            "         (_____)\n",
            "         (_____)\n",
            "          (____)\n",
            "    ---.__(___) \n",
            "You Win\n"
          ]
        }
      ]
    }
  ]
}