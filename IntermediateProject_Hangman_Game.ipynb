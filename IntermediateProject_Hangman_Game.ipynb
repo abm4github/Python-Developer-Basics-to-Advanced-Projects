{
  "cells": [
    {
      "cell_type": "markdown",
      "metadata": {
        "id": "view-in-github",
        "colab_type": "text"
      },
      "source": [
        "<a href=\"https://colab.research.google.com/github/abm4github/Python-Developer-Basics-to-Advanced-Projects/blob/main/IntermediateProject_Hangman_Game.ipynb\" target=\"_parent\"><img src=\"https://colab.research.google.com/assets/colab-badge.svg\" alt=\"Open In Colab\"/></a>"
      ]
    },
    {
      "cell_type": "markdown",
      "source": [
        "## HANGMAN GAME"
      ],
      "metadata": {
        "id": "VC_5_W9gSboQ"
      }
    },
    {
      "cell_type": "markdown",
      "source": [
        "Complete the word by filling blanks with appropriate characters, each wrong guess costs a penalty and seven such penalties will lead to hangman game over. Try to get the right word before a man is hanged, Let's save him!"
      ],
      "metadata": {
        "id": "xAMH9y1jSgWj"
      }
    },
    {
      "cell_type": "code",
      "execution_count": 1,
      "metadata": {
        "id": "bgmpxQJPxoiB"
      },
      "outputs": [],
      "source": [
        "import random\n",
        "import pandas as pd"
      ]
    },
    {
      "cell_type": "code",
      "source": [
        "hangman_pics = ['''\n",
        "  +---+\n",
        "  |   |\n",
        "      |\n",
        "      |\n",
        "      |\n",
        "      |\n",
        "=========\n",
        " SAVE ME''', '''\n",
        "  +---+\n",
        "  |   |\n",
        "  O   |\n",
        "      |\n",
        "      |\n",
        "      |\n",
        "=========\n",
        " SAVE ME''', '''\n",
        "  +---+\n",
        "  |   |\n",
        "  O   |\n",
        "  |   |\n",
        "      |\n",
        "      |\n",
        "=========\n",
        " SAVE ME''', '''\n",
        "  +---+\n",
        "  |   |\n",
        "  O   |\n",
        " /|   |\n",
        "      |\n",
        "      |\n",
        "=========\n",
        "  SAVE ME''', '''\n",
        "  +---+\n",
        "  |   |\n",
        "  O   |\n",
        " /|\\  |\n",
        "      |\n",
        "      |\n",
        "=========\n",
        " SAVE ME''', '''\n",
        "  +---+\n",
        "  |   |\n",
        "  O   |\n",
        " /|\\  |\n",
        " /    |\n",
        "      |\n",
        "=========\n",
        " SAVE ME''', '''\n",
        "  +---+\n",
        "  |   |\n",
        "  O   |\n",
        " /|\\  |\n",
        " / \\  |\n",
        "      |\n",
        "=========\n",
        " SAVE ME''']"
      ],
      "metadata": {
        "id": "aGgITJBUJii-"
      },
      "execution_count": 27,
      "outputs": []
    },
    {
      "cell_type": "code",
      "execution_count": 45,
      "metadata": {
        "colab": {
          "base_uri": "https://localhost:8080/"
        },
        "id": "z2MmwOo9JG8-",
        "outputId": "954a8045-ea44-4c39-984e-8582b0850b19"
      },
      "outputs": [
        {
          "output_type": "stream",
          "name": "stdout",
          "text": [
            "WELCOME TO HANGMAN GAME, FILL THE BLANKS\n",
            "\n",
            "['_', '_', '_', '_', '_', '_', '_', '_']\n",
            "a\n",
            "['_', 'a', '_', '_', '_', '_', 'a', '_']\n",
            "w\n",
            "['w', 'a', '_', '_', '_', '_', 'a', '_']\n",
            "t\n",
            "['w', 'a', 't', '_', '_', '_', 'a', '_']\n",
            "c\n",
            "['w', 'a', 't', 'c', '_', '_', 'a', '_']\n",
            "h\n",
            "['w', 'a', 't', 'c', 'h', '_', 'a', '_']\n",
            "m\n",
            "['w', 'a', 't', 'c', 'h', 'm', 'a', '_']\n",
            "n\n",
            "['w', 'a', 't', 'c', 'h', 'm', 'a', 'n']\n",
            "\n",
            " CONGRATULATIONS, YOU GOT IT RIGHT\n"
          ]
        }
      ],
      "source": [
        "words_list = [\"abruptly\", \"watchman\", \"dictionary\",\"absurd\", \"syndrome\",\"subway\"]\n",
        "word = (random.choice(words_list))\n",
        "print(\"WELCOME TO HANGMAN GAME, FILL THE BLANKS\\n\")\n",
        "list1 = []\n",
        "\n",
        "i = 1\n",
        "while i in range(len(word)+1):\n",
        "  i = i+1 \n",
        "  list1.append('_')\n",
        "print(list1)\n",
        "\n",
        "game_status = 'play'\n",
        "k = 0\n",
        "f = 0\n",
        "set_of_word = set(word)\n",
        "position_list = []\n",
        "# while j in range(len(set_of_word)):\n",
        "while game_status != 'GAME OVER':\n",
        "  letter = input().lower()\n",
        "  if letter in word:\n",
        "    for position,char in enumerate(word):\n",
        "      if(char == letter):\n",
        "        position_list.append(position)    \n",
        "    for position_num in position_list:      \n",
        "      list1[position_num] = letter \n",
        "    # if prev_list1 == list1:\n",
        "    #   print('ohh')  \n",
        "    print(list1)\n",
        "    if set(word)==set(list1):\n",
        "      game_status = 'GAME OVER'\n",
        "    position_list = []\n",
        "  else:\n",
        "    print(hangman_pics[f])\n",
        "    print(list1)\n",
        "    f = f+1\n",
        "    if f == 7:\n",
        "      game_status = 'GAME OVER'\n",
        "  j = j+1\n",
        "if game_status == 'GAME OVER':\n",
        " if set(word)==set(list1):\n",
        "   print(\"\\n CONGRATULATIONS, YOU GOT IT RIGHT.\")\n",
        " if f == 7:\n",
        "   print(\"GAME OVER, BETTER LUCK NEXT TIME\")"
      ]
    }
  ],
  "metadata": {
    "colab": {
      "collapsed_sections": [],
      "name": "IntermediateProject_Hangman_Game.ipynb",
      "provenance": [],
      "authorship_tag": "ABX9TyNnpvU0mRbJgqVqptDtizvb",
      "include_colab_link": true
    },
    "kernelspec": {
      "display_name": "Python 3",
      "name": "python3"
    },
    "language_info": {
      "name": "python"
    }
  },
  "nbformat": 4,
  "nbformat_minor": 0
}