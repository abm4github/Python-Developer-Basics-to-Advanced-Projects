{
  "nbformat": 4,
  "nbformat_minor": 0,
  "metadata": {
    "colab": {
      "name": "BasicProject_Dynamic_Calculator.ipynb",
      "provenance": [],
      "collapsed_sections": [],
      "authorship_tag": "ABX9TyPconI4e7763bkBy66KmRfp",
      "include_colab_link": true
    },
    "kernelspec": {
      "name": "python3",
      "display_name": "Python 3"
    },
    "language_info": {
      "name": "python"
    }
  },
  "cells": [
    {
      "cell_type": "markdown",
      "metadata": {
        "id": "view-in-github",
        "colab_type": "text"
      },
      "source": [
        "<a href=\"https://colab.research.google.com/github/abm4github/Python-Developer-Basics-to-Advanced-Projects/blob/main/BasicProject_Dynamic_Calculator.ipynb\" target=\"_parent\"><img src=\"https://colab.research.google.com/assets/colab-badge.svg\" alt=\"Open In Colab\"/></a>"
      ]
    },
    {
      "cell_type": "markdown",
      "source": [
        "##Calculator: Intermediate Level"
      ],
      "metadata": {
        "id": "SLb8kcSOlFFB"
      }
    },
    {
      "cell_type": "markdown",
      "source": [
        "Here is a Calculator that takes input of numbers and an operator, computes the result.\n",
        "It continues to take multiple inputs and keep solving complex operations till the user terminates. "
      ],
      "metadata": {
        "id": "_g--lvrwlXT4"
      }
    },
    {
      "cell_type": "code",
      "source": [
        "a = float(input(\"What is your first number: \"))\n",
        "next = \"yes\"\n",
        "\n",
        "while next == \"yes\":\n",
        "  b = input(\"Enter the operation symbol( /, *, -, +, //, %, **): \")\n",
        "  c = float(input(\"Enter the next number: \"))\n",
        "\n",
        "  if b == \"/\":\n",
        "    a = a/c\n",
        "  elif b == \"*\":\n",
        "    a = a*c \n",
        "  elif b == \"-\":\n",
        "    a = a-c\n",
        "  elif b == \"+\":\n",
        "    a = a+c\n",
        "  elif b == \"//\":\n",
        "    a = a/c\n",
        "  elif b == \"%\":\n",
        "    a = a%c\n",
        "  elif b == \"**\":\n",
        "    a = a**c\n",
        "\n",
        "  print(f\"The result is: {a}\")\n",
        "  next = input(\"Do you want to continue(Type yes or no): \").lower()\n",
        "  if next == \"no\":\n",
        "    if a%2 != 0:\n",
        "      print(f\"Therefore the final result is {a}\")\n",
        "    else:\n",
        "      print(f\"Therefore the final result is {int(a)}\")"
      ],
      "metadata": {
        "colab": {
          "base_uri": "https://localhost:8080/"
        },
        "id": "qDYP_Oe06UVw",
        "outputId": "553adf5c-6ec6-4926-970c-618078294afe"
      },
      "execution_count": 1,
      "outputs": [
        {
          "output_type": "stream",
          "name": "stdout",
          "text": [
            "What is your first number: 50\n",
            "Enter the operation symbol( /, *, -, +, //, %, **): **\n",
            "Enter the next number: 2\n",
            "The result is: 2500.0\n",
            "Do you want to continue(Type yes or no): yes\n",
            "Enter the operation symbol( /, *, -, +, //, %, **): -\n",
            "Enter the next number: 100\n",
            "The result is: 2400.0\n",
            "Do you want to continue(Type yes or no): yes\n",
            "Enter the operation symbol( /, *, -, +, //, %, **): /\n",
            "Enter the next number: 4\n",
            "The result is: 600.0\n",
            "Do you want to continue(Type yes or no): no\n",
            "Therefore the final result is 600\n"
          ]
        }
      ]
    }
  ]
}