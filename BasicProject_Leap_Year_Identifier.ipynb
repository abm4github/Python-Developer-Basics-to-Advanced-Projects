{
  "nbformat": 4,
  "nbformat_minor": 0,
  "metadata": {
    "colab": {
      "name": "Leap_Year_Identifier.ipynb",
      "provenance": [],
      "authorship_tag": "ABX9TyO6btJqO+fw/7T05M6ecWWF",
      "include_colab_link": true
    },
    "kernelspec": {
      "name": "python3",
      "display_name": "Python 3"
    },
    "language_info": {
      "name": "python"
    }
  },
  "cells": [
    {
      "cell_type": "markdown",
      "metadata": {
        "id": "view-in-github",
        "colab_type": "text"
      },
      "source": [
        "<a href=\"https://colab.research.google.com/github/abm4github/Python-Developer-Basics-to-Advanced-Projects/blob/main/BasicProject_Leap_Year_Identifier.ipynb\" target=\"_parent\"><img src=\"https://colab.research.google.com/assets/colab-badge.svg\" alt=\"Open In Colab\"/></a>"
      ]
    },
    {
      "cell_type": "markdown",
      "metadata": {
        "id": "IiFFK_-CCLqC"
      },
      "source": [
        "# Leap Year or Not ?"
      ]
    },
    {
      "cell_type": "markdown",
      "metadata": {
        "id": "f8zgrNPrHWSz"
      },
      "source": [
        "It takes input, a year (in numerical value) and identifies whether it is a leap year or not."
      ]
    },
    {
      "cell_type": "code",
      "metadata": {
        "colab": {
          "base_uri": "https://localhost:8080/"
        },
        "id": "S-6rrD23Ce34",
        "outputId": "55e29510-756a-4531-f534-d80645be512f"
      },
      "source": [
        "year = int(input(\"Enter the year, you want to check if it is a leap year: \"))\n",
        "\n",
        "if year % 4 == 0:\n",
        "\n",
        "  if year % 100 == 0:\n",
        "  \n",
        "    if year % 400 == 0:\n",
        "      print(\"Yes, It is a leap year.\")\n",
        "    else:\n",
        "      print(\"No, It is not a leap year.\")\n",
        "  \n",
        "  else:\n",
        "    print(\"Yes, It is a leap year.\")\n",
        "\n",
        "else:\n",
        "  print(\"No, It is not a leap year.\")"
      ],
      "execution_count": 3,
      "outputs": [
        {
          "output_type": "stream",
          "name": "stdout",
          "text": [
            "Enter the year, you want to check if it is a leap year: 2021\n",
            "No, It is not a leap year.\n"
          ]
        }
      ]
    }
  ]
}