{
  "nbformat": 4,
  "nbformat_minor": 0,
  "metadata": {
    "colab": {
      "name": "BasicProject_PasswordGenerator.ipynb",
      "provenance": [],
      "collapsed_sections": [],
      "authorship_tag": "ABX9TyMMfqD2iPwgh+rwL+PPw2ij",
      "include_colab_link": true
    },
    "kernelspec": {
      "name": "python3",
      "display_name": "Python 3"
    },
    "language_info": {
      "name": "python"
    }
  },
  "cells": [
    {
      "cell_type": "markdown",
      "metadata": {
        "id": "view-in-github",
        "colab_type": "text"
      },
      "source": [
        "<a href=\"https://colab.research.google.com/github/abm4github/Python-Developer-Basics-to-Advanced-Projects/blob/main/BasicProject_PasswordGenerator.ipynb\" target=\"_parent\"><img src=\"https://colab.research.google.com/assets/colab-badge.svg\" alt=\"Open In Colab\"/></a>"
      ]
    },
    {
      "cell_type": "markdown",
      "source": [
        "## Password Generator"
      ],
      "metadata": {
        "id": "lbwkD4DDuBeN"
      }
    },
    {
      "cell_type": "code",
      "execution_count": 105,
      "metadata": {
        "colab": {
          "base_uri": "https://localhost:8080/"
        },
        "id": "3W7yXYhbtckz",
        "outputId": "611b3eb7-cb7c-4f01-b052-4d3454b9ca5d"
      },
      "outputs": [
        {
          "output_type": "stream",
          "name": "stdout",
          "text": [
            "Let me create a password for you\n",
            "\n",
            "Enter the number of alphabets,symbols and numbers required in your password:\n",
            "\n",
            "Enter the number of alphabets you require in your password: 4\n",
            "Enter the number of symbols you require in your password: 4\n",
            "Enter the number of numbers you require in your password: 4\n",
            "\n",
            " Password: qmbi+$($0389\n"
          ]
        }
      ],
      "source": [
        "import random\n",
        "alphabets = ['A', 'B', 'C', 'D', 'E', 'F', 'G', 'H', 'I', 'J', 'K', 'L', 'M',\n",
        "             'N', 'O', 'P', 'Q', 'R', 'S', 'T', 'U', 'V', 'W', 'X', 'Y', 'Z'\n",
        "             'a', 'b', 'c', 'd', 'e', 'f', 'g', 'h', 'i', 'j', 'k', 'l', 'm',\n",
        "             'n', 'o', 'p', 'q', 'r', 's', 't', 'u', 'v', 'w', 'x', 'y', 'z']\n",
        "\n",
        "symbols = ['!','#','$','%','&','*','+','(',')']\n",
        "numbers = ['0','1','2','3','4','5','6','7','8','9']\n",
        "\n",
        "password = \"\"\n",
        "\n",
        "print('''Let me create a password for you\n",
        "\n",
        "Enter the number of alphabets,symbols and numbers required in your password:\n",
        "''')\n",
        "n_alphabets = int(input(\"Enter the number of alphabets you require in your password: \"))\n",
        "n_symbols = int(input(\"Enter the number of symbols you require in your password: \"))\n",
        "n_numbers = int(input(\"Enter the number of numbers you require in your password: \"))\n",
        "\n",
        "for char in range(1, n_alphabets+1):\n",
        "  random_char = random.choice(alphabets)\n",
        "  password = password + random_char \n",
        "\n",
        "for char in range(1, n_symbols+1):\n",
        "  random_symbol = random.choice(symbols)\n",
        "  password = password + random_symbol \n",
        "\n",
        "for char in range(1, n_numbers+1):\n",
        "  random_number = random.choice(numbers)\n",
        "  password = password + random_number \n",
        "\n",
        "print(f'\\n Password: {password}')"
      ]
    },
    {
      "cell_type": "markdown",
      "source": [
        "##Challenging Password"
      ],
      "metadata": {
        "id": "_oM4n7W3L3Sl"
      }
    },
    {
      "cell_type": "markdown",
      "source": [
        "The above password has certain pattern like starts with alphabets followed by the symbols and ends with numbers.\n",
        "In order to make password more challenging, we can have random shuffle of position of characters in password. "
      ],
      "metadata": {
        "id": "SWeCu7SFMBER"
      }
    },
    {
      "cell_type": "code",
      "source": [
        "password_list = list(password)\n",
        "random.shuffle(password_list)\n",
        "password_hard=''\n",
        "for char in password_list:\n",
        "  password_hard += char  \n",
        "print('Challenging Password:',password_hard)"
      ],
      "metadata": {
        "colab": {
          "base_uri": "https://localhost:8080/"
        },
        "id": "ClnIvfFe7mUD",
        "outputId": "452c6868-fe47-4c57-c90c-c0c2e4aa80a6"
      },
      "execution_count": 106,
      "outputs": [
        {
          "output_type": "stream",
          "name": "stdout",
          "text": [
            "Challenging Password: 0q9i$$m+8b3(\n"
          ]
        }
      ]
    }
  ]
}