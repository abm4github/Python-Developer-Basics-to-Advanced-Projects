{
  "nbformat": 4,
  "nbformat_minor": 0,
  "metadata": {
    "colab": {
      "name": "BasicProject_Highest_Score_Calculator.ipynb",
      "provenance": [],
      "authorship_tag": "ABX9TyOIm40crNT+oP+SI9/ezKwF",
      "include_colab_link": true
    },
    "kernelspec": {
      "name": "python3",
      "display_name": "Python 3"
    },
    "language_info": {
      "name": "python"
    }
  },
  "cells": [
    {
      "cell_type": "markdown",
      "metadata": {
        "id": "view-in-github",
        "colab_type": "text"
      },
      "source": [
        "<a href=\"https://colab.research.google.com/github/abm4github/Python-Developer-Basics-to-Advanced-Projects/blob/main/BasicProject_Highest_Score_Calculator.ipynb\" target=\"_parent\"><img src=\"https://colab.research.google.com/assets/colab-badge.svg\" alt=\"Open In Colab\"/></a>"
      ]
    },
    {
      "cell_type": "markdown",
      "source": [
        "## Highest Score Calculator"
      ],
      "metadata": {
        "id": "PAvjB6iWfqfK"
      }
    },
    {
      "cell_type": "code",
      "metadata": {
        "colab": {
          "base_uri": "https://localhost:8080/"
        },
        "id": "3g45aqUzPZ3V",
        "outputId": "35d38f1d-b2c6-4613-c637-d301fad92153"
      },
      "source": [
        "highest_score = 0\n",
        "student_scores = (input('Enter Scores seperating by \" \"(space): ')).split()\n",
        "print(student_scores)\n",
        "for score in student_scores:\n",
        "  if highest_score < int(score):\n",
        "    highest_score = int(score)\n",
        "  else:\n",
        "    highest_score = highest_score\n",
        "print(highest_score)"
      ],
      "execution_count": null,
      "outputs": [
        {
          "output_type": "stream",
          "name": "stdout",
          "text": [
            "Enter Scores seperating by \" \"(space): 128 76 44 32\n",
            "['128', '76', '44', '32']\n",
            "128\n"
          ]
        }
      ]
    }
  ]
}