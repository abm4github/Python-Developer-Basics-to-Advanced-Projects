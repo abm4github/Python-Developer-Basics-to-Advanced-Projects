{
  "nbformat": 4,
  "nbformat_minor": 0,
  "metadata": {
    "colab": {
      "name": "BasicProject_FizzBuzz_Game.ipynb",
      "provenance": [],
      "collapsed_sections": [],
      "authorship_tag": "ABX9TyP/PVe4v3YvVVnfNZth4xXS",
      "include_colab_link": true
    },
    "kernelspec": {
      "name": "python3",
      "display_name": "Python 3"
    },
    "language_info": {
      "name": "python"
    }
  },
  "cells": [
    {
      "cell_type": "markdown",
      "metadata": {
        "id": "view-in-github",
        "colab_type": "text"
      },
      "source": [
        "<a href=\"https://colab.research.google.com/github/abm4github/Python-Developer-Basics-to-Advanced-Projects/blob/main/BasicProject_FizzBuzz_Game.ipynb\" target=\"_parent\"><img src=\"https://colab.research.google.com/assets/colab-badge.svg\" alt=\"Open In Colab\"/></a>"
      ]
    },
    {
      "cell_type": "markdown",
      "source": [
        "##FizzBuzz - The Game"
      ],
      "metadata": {
        "id": "Ok59s6mBHKx8"
      }
    },
    {
      "cell_type": "markdown",
      "source": [
        "FizzBuzz is a group game where one starts the count from 1, next utters 2 and so on, but fun part of the game is: \n",
        "* If any one encounters with a number divisible by 3 should utter Fizz. \n",
        "* The one who encounters a number divisible by 5 should utter Buzz and also \n",
        "* Similarly, the one who encounters a number that is divisible by both 3 and 5 should utter FizzBuzz.\n",
        "\n",
        "Sounds interesting? Let's Begin."
      ],
      "metadata": {
        "id": "Nkx9Yzq5H0lT"
      }
    },
    {
      "cell_type": "code",
      "execution_count": 14,
      "metadata": {
        "colab": {
          "base_uri": "https://localhost:8080/"
        },
        "id": "gtKps3jOma55",
        "outputId": "e2ddc544-7d5f-4ae9-d5d7-db3c10997ac5"
      },
      "outputs": [
        {
          "output_type": "stream",
          "name": "stdout",
          "text": [
            "\n",
            "                     Lets Play FizzBuzz with Simpsons\n",
            "\n",
            "                          (####)                                            \n",
            "                        (#######)                                            \n",
            "                      (#########)                                              \n",
            "                     (#########)                                             \n",
            "                    (#########)                                              \n",
            "   __&__           (#########)                                               \n",
            "  /     \\         (#########)  |\\/\\/\\/|      /\\ /\\  /\\              /\\                        \n",
            " |       |       (#########)   |      |     |  V  \\/  \\--,    .----/  \\----.      \n",
            " |  (o)(o)       (o)(o)(##)    |      |      \\_         /      \\          /\n",
            " C   .---_)    ,_C     (##)    | (o)(o)       (o)(o)   <__.  .--\\ (o)(o) /__.\n",
            "  | |.___|    /___,   (##)     C      _)     _C         /     \\     ()     /\n",
            "  |  \\__/       \\     (#)       | ,___|     /____,   )  \\      >   (C_)   <\n",
            "  /_____\\        |    |         |   /         \\     /----'    /___\\____/___\\\n",
            " /_____/ \\       OOOOOO        /____\\          ooooo             /|    |\\\n",
            "/         \\     /      \\      /      \\        /     \\           /        \\ \n",
            "\n",
            "    1              2            Fizz             4                 Buzz\n",
            "\n",
            "\n",
            "Terminate the Game at: 50\n",
            "1\n",
            "2\n",
            "Fizz\n",
            "4\n",
            "Buzz\n",
            "Fizz\n",
            "7\n",
            "8\n",
            "Fizz\n",
            "Buzz\n",
            "11\n",
            "Fizz\n",
            "13\n",
            "14\n",
            "FizzBuzz\n",
            "16\n",
            "17\n",
            "Fizz\n",
            "19\n",
            "Buzz\n",
            "Fizz\n",
            "22\n",
            "23\n",
            "Fizz\n",
            "Buzz\n",
            "26\n",
            "Fizz\n",
            "28\n",
            "29\n",
            "FizzBuzz\n",
            "31\n",
            "32\n",
            "Fizz\n",
            "34\n",
            "Buzz\n",
            "Fizz\n",
            "37\n",
            "38\n",
            "Fizz\n",
            "Buzz\n",
            "41\n",
            "Fizz\n",
            "43\n",
            "44\n",
            "FizzBuzz\n",
            "46\n",
            "47\n",
            "Fizz\n",
            "49\n",
            "Buzz\n"
          ]
        }
      ],
      "source": [
        "print(\"\"\"\n",
        "                     Lets Play FizzBuzz with Simpsons\n",
        "\n",
        "                          (####)                                            \n",
        "                        (#######)                                            \n",
        "                      (#########)                                              \n",
        "                     (#########)                                             \n",
        "                    (#########)                                              \n",
        "   __&__           (#########)                                               \n",
        "  /     \\         (#########)  |\\/\\/\\/|      /\\ /\\  /\\              /\\                        \n",
        " |       |       (#########)   |      |     |  V  \\/  \\--,    .----/  \\----.      \n",
        " |  (o)(o)       (o)(o)(##)    |      |      \\_         /      \\          /\n",
        " C   .---_)    ,_C     (##)    | (o)(o)       (o)(o)   <__.  .--\\ (o)(o) /__.\n",
        "  | |.___|    /___,   (##)     C      _)     _C         /     \\     ()     /\n",
        "  |  \\__/       \\     (#)       | ,___|     /____,   )  \\      >   (C_)   <\n",
        "  /_____\\        |    |         |   /         \\     /----'    /___\\____/___\\\\\n",
        " /_____/ \\       OOOOOO        /____\\          ooooo             /|    |\\\\\n",
        "/         \\     /      \\      /      \\        /     \\           /        \\ \n",
        "\n",
        "    1              2            Fizz             4                 Buzz\n",
        "\n",
        "\"\"\")  \n",
        "\n",
        "\n",
        "terminator = int(input(\"Terminate the Game at: \"))\n",
        "num = 1\n",
        "for num in range(1, terminator+1):\n",
        "  if num%15 == 0:\n",
        "    print(\"FizzBuzz\")\n",
        "  elif num%3 == 0:\n",
        "    print(\"Fizz\")\n",
        "  elif num%5 == 0:\n",
        "    print(\"Buzz\") \n",
        "  else:\n",
        "    print(num)\n",
        "  num = num+1\n"
      ]
    }
  ]
}