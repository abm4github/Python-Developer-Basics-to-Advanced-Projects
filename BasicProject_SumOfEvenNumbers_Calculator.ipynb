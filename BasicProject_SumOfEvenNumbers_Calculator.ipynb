{
  "nbformat": 4,
  "nbformat_minor": 0,
  "metadata": {
    "colab": {
      "name": "BasicProject_SumOfEvenNumbers_Calculator.ipynb",
      "provenance": [],
      "authorship_tag": "ABX9TyNkDP/FP6LZBtkQeupC+efU",
      "include_colab_link": true
    },
    "kernelspec": {
      "name": "python3",
      "display_name": "Python 3"
    },
    "language_info": {
      "name": "python"
    }
  },
  "cells": [
    {
      "cell_type": "markdown",
      "metadata": {
        "id": "view-in-github",
        "colab_type": "text"
      },
      "source": [
        "<a href=\"https://colab.research.google.com/github/abm4github/Python-Developer-Basics-to-Advanced-Projects/blob/main/BasicProject_SumOfEvenNumbers_Calculator.ipynb\" target=\"_parent\"><img src=\"https://colab.research.google.com/assets/colab-badge.svg\" alt=\"Open In Colab\"/></a>"
      ]
    },
    {
      "cell_type": "markdown",
      "source": [
        "##Sum of Even Numbers in Given Range - Calculator"
      ],
      "metadata": {
        "id": "AL0GqJe0OY1S"
      }
    },
    {
      "cell_type": "markdown",
      "source": [
        "On providing range of integers as input, this calculator outputs the sum of all even numbers in that range, including lower and upper bounds."
      ],
      "metadata": {
        "id": "DueIEsYyPDlN"
      }
    },
    {
      "cell_type": "code",
      "source": [
        "print(\"\"\"\n",
        "           _____________________\n",
        "          |  _________________  |\n",
        "          | |            2+4+6| |\n",
        "          | |_________________| |\n",
        "          |  ___ ___ ___   ___  |\n",
        "          | | 7 | 8 | 9 | | + | |\n",
        "          | |___|___|___| |___| |\n",
        "          | | 4 | 5 | 6 | | - | |\n",
        "          | |___|___|___| |___| |\n",
        "          | | 1 | 2 | 3 | | x | |\n",
        "          | |___|___|___| |___| |\n",
        "          | | . | 0 | = | | / | |\n",
        "          | |___|___|___| |___| |\n",
        "          |_____________________|\n",
        "          \n",
        "Sum of Even Numbers in Given Range - Calculator\\n\"\"\")\n",
        "\n",
        "a, b = input(\"range starts from: \"), input(\"range ends at: \")\n",
        "sum = 0\n",
        "num = min(int(a), int(b))\n",
        "for num in range(min(int(a),int(b)), (max(int(a),int(b))+1)):\n",
        "  if num%2 == 0:\n",
        "    sum = sum+num\n",
        "  num = num+1\n",
        "print(f\"\\nSum of Even Numbers in Given Range is\",sum)"
      ],
      "metadata": {
        "colab": {
          "base_uri": "https://localhost:8080/"
        },
        "id": "ma9OOpaagKge",
        "outputId": "5145bf45-d903-4cc9-b599-35d0a37e3403"
      },
      "execution_count": 11,
      "outputs": [
        {
          "output_type": "stream",
          "name": "stdout",
          "text": [
            "\n",
            "           _____________________\n",
            "          |  _________________  |\n",
            "          | |            2+4+6| |\n",
            "          | |_________________| |\n",
            "          |  ___ ___ ___   ___  |\n",
            "          | | 7 | 8 | 9 | | + | |\n",
            "          | |___|___|___| |___| |\n",
            "          | | 4 | 5 | 6 | | - | |\n",
            "          | |___|___|___| |___| |\n",
            "          | | 1 | 2 | 3 | | x | |\n",
            "          | |___|___|___| |___| |\n",
            "          | | . | 0 | = | | / | |\n",
            "          | |___|___|___| |___| |\n",
            "          |_____________________|\n",
            "          \n",
            "Sum of Even Numbers in Given Range - Calculator\n",
            "\n",
            "range starts from: -10\n",
            "range ends at: 2\n",
            "\n",
            "Sum of Even Numbers in Given Range is -28\n"
          ]
        }
      ]
    }
  ]
}