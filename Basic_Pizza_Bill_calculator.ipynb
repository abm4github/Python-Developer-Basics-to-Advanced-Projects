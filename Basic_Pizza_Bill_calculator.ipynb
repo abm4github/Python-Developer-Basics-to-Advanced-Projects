{
  "nbformat": 4,
  "nbformat_minor": 0,
  "metadata": {
    "colab": {
      "name": "Basic_Pizza_Bill_calculator.ipynb",
      "provenance": [],
      "authorship_tag": "ABX9TyPpVBvZSFYN1ASChLxxEkdY",
      "include_colab_link": true
    },
    "kernelspec": {
      "name": "python3",
      "display_name": "Python 3"
    },
    "language_info": {
      "name": "python"
    }
  },
  "cells": [
    {
      "cell_type": "markdown",
      "metadata": {
        "id": "view-in-github",
        "colab_type": "text"
      },
      "source": [
        "<a href=\"https://colab.research.google.com/github/abm4github/Python-Developer-Basics-to-Advanced-Projects/blob/main/Basic_Pizza_Bill_calculator.ipynb\" target=\"_parent\"><img src=\"https://colab.research.google.com/assets/colab-badge.svg\" alt=\"Open In Colab\"/></a>"
      ]
    },
    {
      "cell_type": "markdown",
      "metadata": {
        "id": "jXFAOCBj4EGX"
      },
      "source": [
        "## Pizza Bill\n",
        "\n",
        "###It calculates the final bill on pizza purchase based on choices that you make.\n",
        "The following are Pizza details:\n",
        "\n",
        "Small Pizza = \\$15, \n",
        "Medium Pizza = \\$20, \n",
        "Large Pizza = \\$25.\n",
        "\n",
        "Pepperoni for, Small Pizza = \\$2,  Medium and Large Pizzas= \\$3.\n",
        "\n",
        "Extra cheese for Pizza of any size: \\$1"
      ]
    },
    {
      "cell_type": "code",
      "metadata": {
        "colab": {
          "base_uri": "https://localhost:8080/"
        },
        "id": "5Kgp9jpIaEgb",
        "outputId": "f0bd91f4-de3b-4166-bb9c-6cb1ca171cc0"
      },
      "source": [
        "Size = (input('Welcome to Peetza\\'s Pizza!\\nselect the Pizza size, you would like to have today? (\"S\", \"M\", \"L): ')).upper()\n",
        "\n",
        "Bill = 0\n",
        "\n",
        "if Size == 'S' or Size == 'M' or Size == 'L':\n",
        "  if Size == \"S\":\n",
        "    Bill = 15\n",
        "  elif Size == \"M\":\n",
        "    Bill = 20\n",
        "  elif Size == \"L\":\n",
        "    Bill = 25\n",
        "  Pepperoni = (input('Do yo want to add pepperini to it? (\"Y\" / \"N\"): ')).upper()\n",
        "  if Pepperoni == \"Y\":\n",
        "    if Size == \"S\":\n",
        "      Bill += 2\n",
        "    elif Size == \"M\" or \"L\":\n",
        "      Bill += 3\n",
        "  else:\n",
        "        Bill = Bill \n",
        "  Extra_Cheese = (input('Do you like to add extra cheese to it? (\"Y\" / \"N\"): ')).upper()\n",
        "  if Extra_Cheese == \"Y\":\n",
        "    Bill += 1 \n",
        "  else:\n",
        "    Bill = Bill\n",
        "  print(f'The final price of your Pizza is ${Bill}')\n",
        "else:\n",
        "  print('Please select the size of Pizza from available options: (\"S\", \"M\", \"L)')"
      ],
      "execution_count": 93,
      "outputs": [
        {
          "output_type": "stream",
          "name": "stdout",
          "text": [
            "Welcome to Peetza's Pizza!\n",
            "select the Pizza size, you would like to have today? (\"S\", \"M\", \"L): m\n",
            "Do yo want to add pepperini to it? (\"Y\" / \"N\"): y\n",
            "Do you like to add extra cheese to it? (\"Y\" / \"N\"): y\n",
            "The final price of your Pizza is $24\n"
          ]
        }
      ]
    }
  ]
}