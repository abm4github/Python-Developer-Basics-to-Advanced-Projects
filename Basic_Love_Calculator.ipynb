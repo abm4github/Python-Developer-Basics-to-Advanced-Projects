{
  "nbformat": 4,
  "nbformat_minor": 0,
  "metadata": {
    "colab": {
      "name": "Basic_Love_Calculator.ipynb",
      "provenance": [],
      "authorship_tag": "ABX9TyNRbkd1xPC0QNra4NWrW+fw",
      "include_colab_link": true
    },
    "kernelspec": {
      "name": "python3",
      "display_name": "Python 3"
    },
    "language_info": {
      "name": "python"
    }
  },
  "cells": [
    {
      "cell_type": "markdown",
      "metadata": {
        "id": "view-in-github",
        "colab_type": "text"
      },
      "source": [
        "<a href=\"https://colab.research.google.com/github/abm4github/Python-Developer-Basics-to-Advanced-Projects/blob/main/Basic_Love_Calculator.ipynb\" target=\"_parent\"><img src=\"https://colab.research.google.com/assets/colab-badge.svg\" alt=\"Open In Colab\"/></a>"
      ]
    },
    {
      "cell_type": "markdown",
      "metadata": {
        "id": "eeYy_D4Hqzjm"
      },
      "source": [
        "##TRUE LOVE"
      ]
    },
    {
      "cell_type": "markdown",
      "metadata": {
        "id": "0foCtFp4q-zw"
      },
      "source": [
        "If you give names of a couple, it gives their Love score."
      ]
    },
    {
      "cell_type": "code",
      "metadata": {
        "colab": {
          "base_uri": "https://localhost:8080/"
        },
        "id": "iL8wv7Xcsw5y",
        "outputId": "271bd0d3-d70d-4c9a-8d58-5cfbff80b68f"
      },
      "source": [
        "print('''\n",
        ",d88b.d88b,     ,d88b.d88b,     ,d88b.d88b,     ,d88b.d88b,     ,d88b.d88b,\n",
        "88888888888     88888888888     88888888888     88888888888     88888888888\n",
        "`Y8888888Y'     `Y8888888Y'     `Y8888888Y'     `Y8888888Y'     `Y8888888Y'\n",
        "  `Y888Y'         `Y888Y'         `Y888Y'         `Y888Y'         `Y888Y'\n",
        "    `Y'             `Y'             `Y'             `Y'             `Y'  \\n\n",
        "Hey Love birds, Enter your names to check your compatibility''')\n",
        "\n",
        "Name_1 = input(\"Enter your name: \").upper()\n",
        "Name_2 = input(\"Enter your partner's name: \").upper()\n",
        "Name = Name_1 + Name_2\n",
        "T = Name.count(\"T\")\n",
        "R = Name.count(\"R\")\n",
        "U = Name.count(\"U\")\n",
        "E = Name.count(\"E\")\n",
        "L = Name.count(\"L\")\n",
        "O = Name.count(\"O\")\n",
        "V = Name.count(\"V\")\n",
        "E = Name.count(\"E\")\n",
        "\n",
        "TRUE = T+R+U+E\n",
        "LOVE = L+O+V+E\n",
        "\n",
        "print(f\"\\n  Your Love Score is {str(TRUE)+str(LOVE)}*\")\n",
        "print('''\\nYou might have observed asterisk (*) mark beside your score,\n",
        "warning: do not take 'love score' to your hearts,\n",
        "Even the 'love score' of Romeo and Juliet is mere 55.\\n\n",
        "  So trust each other and be loyal :) ''')\n",
        "print('''\n",
        ",d88b.d88b,     ,d88b.d88b,     ,d88b.d88b,     ,d88b.d88b,     ,d88b.d88b,\n",
        "88888888888     88888888888     88888888888     88888888888     88888888888\n",
        "`Y8888888Y'     `Y8888888Y'     `Y8888888Y'     `Y8888888Y'     `Y8888888Y'\n",
        "  `Y888Y'         `Y888Y'         `Y888Y'         `Y888Y'         `Y888Y'\n",
        "    `Y'             `Y'             `Y'             `Y'             `Y'  \\n''')"
      ],
      "execution_count": 37,
      "outputs": [
        {
          "output_type": "stream",
          "name": "stdout",
          "text": [
            "\n",
            ",d88b.d88b,     ,d88b.d88b,     ,d88b.d88b,     ,d88b.d88b,     ,d88b.d88b,\n",
            "88888888888     88888888888     88888888888     88888888888     88888888888\n",
            "`Y8888888Y'     `Y8888888Y'     `Y8888888Y'     `Y8888888Y'     `Y8888888Y'\n",
            "  `Y888Y'         `Y888Y'         `Y888Y'         `Y888Y'         `Y888Y'\n",
            "    `Y'             `Y'             `Y'             `Y'             `Y'  \n",
            "\n",
            "Hey Love birds, Enter your names to check your compatibility\n",
            "Enter your name: Romeo\n",
            "Enter your partner's name: Juliet\n",
            "\n",
            "  Your Love Score is 55*\n",
            "\n",
            "You might have observed asterisk (*) mark beside your score,\n",
            "warning: do not take 'love score' to your hearts,\n",
            "Even the 'love score' of Romeo and Juliet is mere 55.\n",
            "\n",
            "  So trust each other and be loyal :) \n",
            "\n",
            ",d88b.d88b,     ,d88b.d88b,     ,d88b.d88b,     ,d88b.d88b,     ,d88b.d88b,\n",
            "88888888888     88888888888     88888888888     88888888888     88888888888\n",
            "`Y8888888Y'     `Y8888888Y'     `Y8888888Y'     `Y8888888Y'     `Y8888888Y'\n",
            "  `Y888Y'         `Y888Y'         `Y888Y'         `Y888Y'         `Y888Y'\n",
            "    `Y'             `Y'             `Y'             `Y'             `Y'  \n",
            "\n"
          ]
        }
      ]
    }
  ]
}