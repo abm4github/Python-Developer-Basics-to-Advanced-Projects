{
  "nbformat": 4,
  "nbformat_minor": 0,
  "metadata": {
    "colab": {
      "name": "BasicProject_Days_in_a_Month.ipynb",
      "provenance": [],
      "collapsed_sections": [],
      "authorship_tag": "ABX9TyMF+fUWomj/NKsfyDPLTggZ",
      "include_colab_link": true
    },
    "kernelspec": {
      "name": "python3",
      "display_name": "Python 3"
    },
    "language_info": {
      "name": "python"
    }
  },
  "cells": [
    {
      "cell_type": "markdown",
      "metadata": {
        "id": "view-in-github",
        "colab_type": "text"
      },
      "source": [
        "<a href=\"https://colab.research.google.com/github/abm4github/Python-Developer-Basics-to-Advanced-Projects/blob/main/BasicProject_Days_in_a_Month.ipynb\" target=\"_parent\"><img src=\"https://colab.research.google.com/assets/colab-badge.svg\" alt=\"Open In Colab\"/></a>"
      ]
    },
    {
      "cell_type": "markdown",
      "source": [
        "## Days in a Month"
      ],
      "metadata": {
        "id": "HIiwlB0y8RAB"
      }
    },
    {
      "cell_type": "markdown",
      "source": [
        "It takes year and month(in number) and gives output, whether the given year is a leap year and the number of days in the given month."
      ],
      "metadata": {
        "id": "E1-ncuR_8oAL"
      }
    },
    {
      "cell_type": "code",
      "source": [
        "def leap_year(year):\n",
        "  if year % 4 == 0:\n",
        "\n",
        "    if year % 100 == 0:\n",
        "    \n",
        "      if year % 400 == 0:\n",
        "        return True\n",
        "      else:\n",
        "        return False\n",
        "    \n",
        "    else:\n",
        "      return True\n",
        "\n",
        "  else:\n",
        "    return False\n",
        "\n",
        "def days_in_month(year, month):\n",
        "  month_days = ['none', 31, 29, 31, 30, 31, 30, 31, 31, 30, 31, 30, 31]\n",
        "\n",
        "  if leap_year(year):\n",
        "    return f\"It is a leap year, the number of days in the month you have chosen is {month_days[month]}\"\n",
        "\n",
        "  else:        \n",
        "    if int(month) == 2:\n",
        "      return f\"It is not a leap year, the number of days in the month you have chosen is {month_days[month]-1}\"\n",
        "\n",
        "    else:\n",
        "      return f\"It is not a leap year, the number of days in the month you have chosen is {month_days[month]}\"\n",
        "\n",
        "year = int(input(\"Enter the year, you wish to know, if it is a leap year: \"))\n",
        "month = int(input(\"Enter the number of month, you want to know the number of days in it: \"))\n",
        "days_in_month(year, month)"
      ],
      "metadata": {
        "colab": {
          "base_uri": "https://localhost:8080/",
          "height": 72
        },
        "id": "ypk_zXQolkfk",
        "outputId": "7a6a75b3-ae97-4c0d-f789-2b684726024d"
      },
      "execution_count": 43,
      "outputs": [
        {
          "name": "stdout",
          "output_type": "stream",
          "text": [
            "Enter the year, you wish to know, if it is a leap year: 2022\n",
            "Enter the number of month, you want to know the number of days in it: 2\n"
          ]
        },
        {
          "output_type": "execute_result",
          "data": {
            "application/vnd.google.colaboratory.intrinsic+json": {
              "type": "string"
            },
            "text/plain": [
              "'It is not a leap year, the number of days in the month you have chosen is 28'"
            ]
          },
          "metadata": {},
          "execution_count": 43
        }
      ]
    }
  ]
}